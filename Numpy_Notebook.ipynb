{
 "cells": [
  {
   "cell_type": "code",
   "execution_count": 1,
   "id": "f238c864-de1a-4dbb-91cb-508ef072b761",
   "metadata": {},
   "outputs": [
    {
     "name": "stdout",
     "output_type": "stream",
     "text": [
      "[1 2 3 4]\n"
     ]
    }
   ],
   "source": [
    "import numpy as np\n",
    "a = np.array([1, 2, 3, 4])\n",
    "print(a)"
   ]
  },
  {
   "cell_type": "code",
   "execution_count": 2,
   "id": "1e0d432f-ce39-47bc-af26-a76f7a7fbf98",
   "metadata": {},
   "outputs": [],
   "source": [
    "# multidimensional\n",
    "b = np.array([[2, 5, 2], [2, 5, 6], [8, 8, 5]])"
   ]
  },
  {
   "cell_type": "code",
   "execution_count": 3,
   "id": "33d1f94d-d5fe-49d7-9ea1-1c911fab8761",
   "metadata": {},
   "outputs": [
    {
     "name": "stdout",
     "output_type": "stream",
     "text": [
      "[[2 5 2]\n",
      " [2 5 6]\n",
      " [8 8 5]]\n"
     ]
    }
   ],
   "source": [
    "print(b)"
   ]
  },
  {
   "cell_type": "code",
   "execution_count": 4,
   "id": "e8b0b2dd-fa66-484d-8106-2aeeedae8a81",
   "metadata": {},
   "outputs": [
    {
     "name": "stdout",
     "output_type": "stream",
     "text": [
      "[[0. 0. 0.]\n",
      " [0. 0. 0.]\n",
      " [0. 0. 0.]\n",
      " [0. 0. 0.]]\n"
     ]
    }
   ],
   "source": [
    "c = np.zeros((4, 3))\n",
    "print(c)"
   ]
  },
  {
   "cell_type": "code",
   "execution_count": 5,
   "id": "6d1868b6-b6d3-4896-9e34-d19dbac3a512",
   "metadata": {},
   "outputs": [
    {
     "name": "stdout",
     "output_type": "stream",
     "text": [
      "[[1. 1. 1.]\n",
      " [1. 1. 1.]\n",
      " [1. 1. 1.]\n",
      " [1. 1. 1.]]\n"
     ]
    }
   ],
   "source": [
    "d = np.ones((4, 3))\n",
    "print(d)"
   ]
  },
  {
   "cell_type": "code",
   "execution_count": 6,
   "id": "e14860ed-d53a-474f-ac6a-9807e4726e7a",
   "metadata": {},
   "outputs": [
    {
     "data": {
      "text/plain": [
       "array([1, 2, 3, 4, 5, 6, 7, 8, 9])"
      ]
     },
     "execution_count": 6,
     "metadata": {},
     "output_type": "execute_result"
    }
   ],
   "source": [
    "np.arange(1, 10)"
   ]
  },
  {
   "cell_type": "code",
   "execution_count": 7,
   "id": "39f14771-f921-4b59-8d5c-dbd40a3b6398",
   "metadata": {},
   "outputs": [
    {
     "data": {
      "text/plain": [
       "array([  1.  ,  25.75,  50.5 ,  75.25, 100.  ])"
      ]
     },
     "execution_count": 7,
     "metadata": {},
     "output_type": "execute_result"
    }
   ],
   "source": [
    "np.linspace(1, 100, 5)"
   ]
  },
  {
   "cell_type": "code",
   "execution_count": 8,
   "id": "1cbf0274-c90c-45a9-9f68-ecd6ccea5ffd",
   "metadata": {},
   "outputs": [
    {
     "data": {
      "text/plain": [
       "array([[0.7797993 , 0.40134922, 0.11897621],\n",
       "       [0.14296257, 0.17477094, 0.37474494]])"
      ]
     },
     "execution_count": 8,
     "metadata": {},
     "output_type": "execute_result"
    }
   ],
   "source": [
    "np.random.rand(2, 3)"
   ]
  },
  {
   "cell_type": "code",
   "execution_count": 9,
   "id": "2204a54e-f701-4f7d-bfc6-93ca9ac3f6bd",
   "metadata": {},
   "outputs": [],
   "source": [
    "j = np.random.default_rng()\n",
    "a = j.integers(0, 5, size=5, endpoint=True)"
   ]
  },
  {
   "cell_type": "code",
   "execution_count": 10,
   "id": "c3777da9-9646-4e35-b864-8f6f1cc7d6fc",
   "metadata": {},
   "outputs": [
    {
     "name": "stdout",
     "output_type": "stream",
     "text": [
      "original: [2 2 5 1 4]\n",
      "shuffled: [4 5 1 2 2]\n",
      "permutated: [4 5 1 2 2]\n"
     ]
    }
   ],
   "source": [
    "print('original:', a)\n",
    "j.shuffle(a)\n",
    "print('shuffled:', a)\n",
    "j.permutation(a)\n",
    "print('permutated:', a)"
   ]
  },
  {
   "cell_type": "code",
   "execution_count": 11,
   "id": "800bf99b-8387-4410-9f2e-9679bf495a6f",
   "metadata": {},
   "outputs": [
    {
     "data": {
      "text/plain": [
       "array([5, 1, 4, 2, 2], dtype=int64)"
      ]
     },
     "execution_count": 11,
     "metadata": {},
     "output_type": "execute_result"
    }
   ],
   "source": [
    "# shuffle realmente muda in-place, por isso não retorna nada\n",
    "j.shuffle(a)\n",
    "# já o permutation faz um cópia. Podendo retornar algo e guarda-lo em outra váriavel\n",
    "perm = j.permutation(a)\n",
    "perm"
   ]
  }
 ],
 "metadata": {
  "kernelspec": {
   "display_name": "Python 3 (ipykernel)",
   "language": "python",
   "name": "python3"
  },
  "language_info": {
   "codemirror_mode": {
    "name": "ipython",
    "version": 3
   },
   "file_extension": ".py",
   "mimetype": "text/x-python",
   "name": "python",
   "nbconvert_exporter": "python",
   "pygments_lexer": "ipython3",
   "version": "3.8.3"
  }
 },
 "nbformat": 4,
 "nbformat_minor": 5
}
