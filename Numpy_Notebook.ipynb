{
 "cells": [
  {
   "cell_type": "code",
   "execution_count": 6,
   "id": "f238c864-de1a-4dbb-91cb-508ef072b761",
   "metadata": {},
   "outputs": [
    {
     "name": "stdout",
     "output_type": "stream",
     "text": [
      "[1 2 3 4]\n"
     ]
    }
   ],
   "source": [
    "import numpy as np\n",
    "a = np.array([1, 2, 3, 4])\n",
    "print(a)"
   ]
  },
  {
   "cell_type": "code",
   "execution_count": 9,
   "id": "1e0d432f-ce39-47bc-af26-a76f7a7fbf98",
   "metadata": {},
   "outputs": [],
   "source": [
    "# multidimensional\n",
    "b = np.array([[2, 5, 2], [2, 5, 6], [8, 8, 5]])"
   ]
  },
  {
   "cell_type": "code",
   "execution_count": 8,
   "id": "33d1f94d-d5fe-49d7-9ea1-1c911fab8761",
   "metadata": {},
   "outputs": [
    {
     "name": "stdout",
     "output_type": "stream",
     "text": [
      "[[2 5 2]\n",
      " [2 5 6]\n",
      " [8 8 5]]\n"
     ]
    }
   ],
   "source": [
    "print(b)"
   ]
  },
  {
   "cell_type": "code",
   "execution_count": 10,
   "id": "e8b0b2dd-fa66-484d-8106-2aeeedae8a81",
   "metadata": {},
   "outputs": [
    {
     "name": "stdout",
     "output_type": "stream",
     "text": [
      "[[0. 0. 0.]\n",
      " [0. 0. 0.]\n",
      " [0. 0. 0.]\n",
      " [0. 0. 0.]]\n"
     ]
    }
   ],
   "source": [
    "c = np.zeros((4, 3))\n",
    "print(c)"
   ]
  },
  {
   "cell_type": "code",
   "execution_count": 11,
   "id": "6d1868b6-b6d3-4896-9e34-d19dbac3a512",
   "metadata": {},
   "outputs": [
    {
     "name": "stdout",
     "output_type": "stream",
     "text": [
      "[[1. 1. 1.]\n",
      " [1. 1. 1.]\n",
      " [1. 1. 1.]\n",
      " [1. 1. 1.]]\n"
     ]
    }
   ],
   "source": [
    "d = np.ones((4, 3))\n",
    "print(d)"
   ]
  },
  {
   "cell_type": "code",
   "execution_count": 12,
   "id": "e14860ed-d53a-474f-ac6a-9807e4726e7a",
   "metadata": {},
   "outputs": [
    {
     "data": {
      "text/plain": [
       "array([1, 2, 3, 4, 5, 6, 7, 8, 9])"
      ]
     },
     "execution_count": 12,
     "metadata": {},
     "output_type": "execute_result"
    }
   ],
   "source": [
    "np.arange(1, 10)"
   ]
  },
  {
   "cell_type": "code",
   "execution_count": 20,
   "id": "39f14771-f921-4b59-8d5c-dbd40a3b6398",
   "metadata": {},
   "outputs": [
    {
     "data": {
      "text/plain": [
       "array([  1.  ,  25.75,  50.5 ,  75.25, 100.  ])"
      ]
     },
     "execution_count": 20,
     "metadata": {},
     "output_type": "execute_result"
    }
   ],
   "source": [
    "np.linspace(1, 100, 5)"
   ]
  },
  {
   "cell_type": "code",
   "execution_count": 21,
   "id": "1cbf0274-c90c-45a9-9f68-ecd6ccea5ffd",
   "metadata": {},
   "outputs": [
    {
     "data": {
      "text/plain": [
       "array([[0.52338061, 0.24218776, 0.88498336],\n",
       "       [0.53222504, 0.14373828, 0.84628088]])"
      ]
     },
     "execution_count": 21,
     "metadata": {},
     "output_type": "execute_result"
    }
   ],
   "source": [
    "np.random.rand(2, 3)"
   ]
  },
  {
   "cell_type": "code",
   "execution_count": 36,
   "id": "2204a54e-f701-4f7d-bfc6-93ca9ac3f6bd",
   "metadata": {},
   "outputs": [],
   "source": [
    "j = np.random.default_rng()\n",
    "a = j.integers(0, 5, size=5, endpoint=True)"
   ]
  },
  {
   "cell_type": "code",
   "execution_count": 39,
   "id": "c3777da9-9646-4e35-b864-8f6f1cc7d6fc",
   "metadata": {},
   "outputs": [
    {
     "name": "stdout",
     "output_type": "stream",
     "text": [
      "original: [1 2 0 0 4]\n",
      "shuffled: [1 0 4 2 0]\n",
      "permutated: [1 0 4 2 0]\n"
     ]
    }
   ],
   "source": [
    "print('original:', a)\n",
    "j.shuffle(a)\n",
    "print('shuffled:', a)\n",
    "j.permutation(a)\n",
    "print('permutated:', a)"
   ]
  },
  {
   "cell_type": "code",
   "execution_count": 46,
   "id": "800bf99b-8387-4410-9f2e-9679bf495a6f",
   "metadata": {},
   "outputs": [
    {
     "data": {
      "text/plain": [
       "array([2, 1, 0, 0, 4], dtype=int64)"
      ]
     },
     "execution_count": 46,
     "metadata": {},
     "output_type": "execute_result"
    }
   ],
   "source": [
    "# shuffle realmente muda in-place, por isso não retorna nada\n",
    "j.shuffle(a)\n",
    "# já o permutation faz um cópia. Podendo retornar algo e guarda-lo em outra váriavel\n",
    "perm = j.permutation(a)\n",
    "perm"
   ]
  },
  {
   "cell_type": "code",
   "execution_count": 54,
   "id": "0abf8f4b-bc80-4c55-8f42-4ad8ee890b43",
   "metadata": {},
   "outputs": [
    {
     "data": {
      "text/html": [
       "<div>\n",
       "<style scoped>\n",
       "    .dataframe tbody tr th:only-of-type {\n",
       "        vertical-align: middle;\n",
       "    }\n",
       "\n",
       "    .dataframe tbody tr th {\n",
       "        vertical-align: top;\n",
       "    }\n",
       "\n",
       "    .dataframe thead th {\n",
       "        text-align: right;\n",
       "    }\n",
       "</style>\n",
       "<table border=\"1\" class=\"dataframe\">\n",
       "  <thead>\n",
       "    <tr style=\"text-align: right;\">\n",
       "      <th></th>\n",
       "      <th>satellite</th>\n",
       "      <th>missile</th>\n",
       "      <th>education</th>\n",
       "      <th>medical</th>\n",
       "    </tr>\n",
       "  </thead>\n",
       "  <tbody>\n",
       "    <tr>\n",
       "      <th>0</th>\n",
       "      <td>1</td>\n",
       "      <td>1</td>\n",
       "      <td>0</td>\n",
       "      <td>0</td>\n",
       "    </tr>\n",
       "    <tr>\n",
       "      <th>1</th>\n",
       "      <td>0</td>\n",
       "      <td>1</td>\n",
       "      <td>1</td>\n",
       "      <td>1</td>\n",
       "    </tr>\n",
       "    <tr>\n",
       "      <th>2</th>\n",
       "      <td>0</td>\n",
       "      <td>0</td>\n",
       "      <td>1</td>\n",
       "      <td>1</td>\n",
       "    </tr>\n",
       "    <tr>\n",
       "      <th>3</th>\n",
       "      <td>0</td>\n",
       "      <td>1</td>\n",
       "      <td>1</td>\n",
       "      <td>1</td>\n",
       "    </tr>\n",
       "    <tr>\n",
       "      <th>4</th>\n",
       "      <td>0</td>\n",
       "      <td>0</td>\n",
       "      <td>0</td>\n",
       "      <td>0</td>\n",
       "    </tr>\n",
       "    <tr>\n",
       "      <th>5</th>\n",
       "      <td>0</td>\n",
       "      <td>0</td>\n",
       "      <td>0</td>\n",
       "      <td>1</td>\n",
       "    </tr>\n",
       "    <tr>\n",
       "      <th>6</th>\n",
       "      <td>0</td>\n",
       "      <td>1</td>\n",
       "      <td>0</td>\n",
       "      <td>1</td>\n",
       "    </tr>\n",
       "    <tr>\n",
       "      <th>7</th>\n",
       "      <td>1</td>\n",
       "      <td>1</td>\n",
       "      <td>1</td>\n",
       "      <td>1</td>\n",
       "    </tr>\n",
       "    <tr>\n",
       "      <th>8</th>\n",
       "      <td>1</td>\n",
       "      <td>1</td>\n",
       "      <td>0</td>\n",
       "      <td>0</td>\n",
       "    </tr>\n",
       "    <tr>\n",
       "      <th>9</th>\n",
       "      <td>0</td>\n",
       "      <td>1</td>\n",
       "      <td>0</td>\n",
       "      <td>1</td>\n",
       "    </tr>\n",
       "    <tr>\n",
       "      <th>10</th>\n",
       "      <td>0</td>\n",
       "      <td>0</td>\n",
       "      <td>0</td>\n",
       "      <td>1</td>\n",
       "    </tr>\n",
       "    <tr>\n",
       "      <th>11</th>\n",
       "      <td>1</td>\n",
       "      <td>1</td>\n",
       "      <td>0</td>\n",
       "      <td>0</td>\n",
       "    </tr>\n",
       "  </tbody>\n",
       "</table>\n",
       "</div>"
      ],
      "text/plain": [
       "    satellite  missile  education  medical\n",
       "0           1        1          0        0\n",
       "1           0        1          1        1\n",
       "2           0        0          1        1\n",
       "3           0        1          1        1\n",
       "4           0        0          0        0\n",
       "5           0        0          0        1\n",
       "6           0        1          0        1\n",
       "7           1        1          1        1\n",
       "8           1        1          0        0\n",
       "9           0        1          0        1\n",
       "10          0        0          0        1\n",
       "11          1        1          0        0"
      ]
     },
     "execution_count": 54,
     "metadata": {},
     "output_type": "execute_result"
    }
   ],
   "source": [
    "import pandas as pd\n",
    "# i want that size will be 4 features per row\n",
    "c = j.integers(0, 1, size=4*12, endpoint=True).reshape(12, 4)\n",
    "df = pd.DataFrame(c, columns=[\"satellite\", \"missile\", \"education\", \"medical\"])\n",
    "df"
   ]
  },
  {
   "cell_type": "code",
   "execution_count": null,
   "id": "a80504fb-b5b4-4e11-bc8c-b2e3b81aadbf",
   "metadata": {},
   "outputs": [],
   "source": [
    "X = df\n",
    "# 1 = democratic, 0 = republican\n",
    "y = j.integers(0, 1, size=12, )"
   ]
  }
 ],
 "metadata": {
  "kernelspec": {
   "display_name": "Python 3 (ipykernel)",
   "language": "python",
   "name": "python3"
  },
  "language_info": {
   "codemirror_mode": {
    "name": "ipython",
    "version": 3
   },
   "file_extension": ".py",
   "mimetype": "text/x-python",
   "name": "python",
   "nbconvert_exporter": "python",
   "pygments_lexer": "ipython3",
   "version": "3.8.3"
  }
 },
 "nbformat": 4,
 "nbformat_minor": 5
}
